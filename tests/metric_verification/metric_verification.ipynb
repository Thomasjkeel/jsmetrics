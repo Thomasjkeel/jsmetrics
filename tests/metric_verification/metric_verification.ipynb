{
 "cells": [
  {
   "cell_type": "code",
   "execution_count": 1,
   "id": "1790eb03-9447-4fd3-87e9-fe37ace67c90",
   "metadata": {},
   "outputs": [],
   "source": [
    "import xarray as xr\n",
    "import matplotlib.pyplot as plt\n",
    "\n",
    "import jsmetrics\n",
    "\n",
    "%matplotlib inline"
   ]
  },
  {
   "cell_type": "code",
   "execution_count": 5,
   "id": "4dcac8c3-12ed-4cd2-a331-d4c43756e6a7",
   "metadata": {},
   "outputs": [
    {
     "name": "stdout",
     "output_type": "stream",
     "text": [
      "0.0.4-beta\n",
      "0.20.1\n"
     ]
    }
   ],
   "source": [
    "print(jsmetrics.__version__)\n",
    "print(xr.__version__)"
   ]
  },
  {
   "cell_type": "markdown",
   "id": "5dfbb77c-7821-4182-8f6c-cad17dc8dec0",
   "metadata": {
    "tags": []
   },
   "source": [
    "# Koch et al. 2006"
   ]
  },
  {
   "cell_type": "code",
   "execution_count": null,
   "id": "177a575a-ae30-4141-a5d0-084419ca4bb6",
   "metadata": {},
   "outputs": [],
   "source": [
    "jsmetrics.jetstream_metrics.koch_et_al_2006"
   ]
  },
  {
   "cell_type": "code",
   "execution_count": null,
   "id": "f4adddb4-b494-4f6c-a996-5a9f3518a43f",
   "metadata": {},
   "outputs": [],
   "source": []
  },
  {
   "cell_type": "markdown",
   "id": "16bc9a94-1d37-47b8-a6a6-9f352d454c5f",
   "metadata": {},
   "source": [
    "# Archer & Caldiera 2008"
   ]
  },
  {
   "cell_type": "code",
   "execution_count": null,
   "id": "d6fb7672-c272-46d1-b3ee-44f6e67a0e53",
   "metadata": {},
   "outputs": [],
   "source": [
    "jsmetrics.jetstream_metrics.archer_caldeira_2008"
   ]
  },
  {
   "cell_type": "code",
   "execution_count": null,
   "id": "8620eade-ecb3-4aeb-976c-bc00f757994d",
   "metadata": {},
   "outputs": [],
   "source": []
  },
  {
   "cell_type": "markdown",
   "id": "83a38661-b846-47ec-a495-c08e1e0197be",
   "metadata": {},
   "source": [
    "# Schiemann et al. 2009"
   ]
  },
  {
   "cell_type": "code",
   "execution_count": null,
   "id": "8fe1a567-7c3e-4f2e-8bb3-1161589bbf66",
   "metadata": {},
   "outputs": [],
   "source": [
    "jsmetrics.jetstream_metrics.schiemann_et_al_2009"
   ]
  },
  {
   "cell_type": "code",
   "execution_count": null,
   "id": "f3782e90-9a26-47c7-91b6-fea99b296413",
   "metadata": {},
   "outputs": [],
   "source": []
  },
  {
   "cell_type": "markdown",
   "id": "2784e5ab-f3ba-43b3-bfb0-7c3bf8abab6f",
   "metadata": {},
   "source": [
    "# Woollings et al. 2010"
   ]
  },
  {
   "cell_type": "code",
   "execution_count": null,
   "id": "e7b6b879-9a61-4541-af65-4bdb2af5ba5d",
   "metadata": {},
   "outputs": [],
   "source": [
    "jsmetrics.jetstream_metrics.woolings_et_al_2010"
   ]
  },
  {
   "cell_type": "code",
   "execution_count": null,
   "id": "39871516-1522-4742-bf35-54099b49e5e8",
   "metadata": {},
   "outputs": [],
   "source": []
  },
  {
   "cell_type": "markdown",
   "id": "70f28be7-4b3c-4fb7-afdf-1e66f8cafcc5",
   "metadata": {},
   "source": [
    "# Manney et al. 2011"
   ]
  },
  {
   "cell_type": "code",
   "execution_count": null,
   "id": "74367cba-7ade-49cf-a66b-d82aeb432577",
   "metadata": {},
   "outputs": [],
   "source": [
    "jsmetrics.jetstream_metrics.manney_et_al_2011"
   ]
  },
  {
   "cell_type": "code",
   "execution_count": null,
   "id": "8fc1c405-ed93-488f-b7ed-309f7020e6c2",
   "metadata": {},
   "outputs": [],
   "source": []
  },
  {
   "cell_type": "markdown",
   "id": "18e2f0a4-0a94-46ba-9c54-1bab15c1055f",
   "metadata": {},
   "source": [
    "# Screen & Simmonds 2013"
   ]
  },
  {
   "cell_type": "code",
   "execution_count": null,
   "id": "e100361e-85bd-44f7-9c64-d17dee9f4a2c",
   "metadata": {},
   "outputs": [],
   "source": [
    "jsmetrics.jetstream_metrics.screen_and_simmonds_2013"
   ]
  },
  {
   "cell_type": "code",
   "execution_count": null,
   "id": "cbf96dba-551a-435b-bd4f-84ba7b9e890d",
   "metadata": {},
   "outputs": [],
   "source": []
  },
  {
   "cell_type": "markdown",
   "id": "27fb1d83-5ba4-4e36-a6c1-b1cce65a95ed",
   "metadata": {},
   "source": [
    "# Kuang et al. 2014"
   ]
  },
  {
   "cell_type": "code",
   "execution_count": null,
   "id": "744c5638-4960-43bf-be98-ea2f2ad264de",
   "metadata": {},
   "outputs": [],
   "source": [
    "jsmetrics.jetstream_metrics.kuang_et_al_2014"
   ]
  },
  {
   "cell_type": "code",
   "execution_count": null,
   "id": "0c73f445-1463-4651-a3e9-c8205e43597f",
   "metadata": {},
   "outputs": [],
   "source": []
  },
  {
   "cell_type": "markdown",
   "id": "07856987-f98e-4cd5-940f-ea9f794cbe5b",
   "metadata": {},
   "source": [
    "# Francis & Vavrus 2015"
   ]
  },
  {
   "cell_type": "code",
   "execution_count": null,
   "id": "4b1a755a-3c1b-4892-bfe1-1e78836bdda7",
   "metadata": {},
   "outputs": [],
   "source": [
    "jsmetrics.jetstream_metrics.francis_vavrus_2015"
   ]
  },
  {
   "cell_type": "code",
   "execution_count": null,
   "id": "e5604948-bd98-47b1-ae7e-ef04bc06fd2c",
   "metadata": {},
   "outputs": [],
   "source": []
  },
  {
   "cell_type": "markdown",
   "id": "46ab33bd-3f87-47c7-a9d7-0f86821e8ffb",
   "metadata": {},
   "source": [
    "# Cattiaux et al. 2016"
   ]
  },
  {
   "cell_type": "code",
   "execution_count": null,
   "id": "31eac85a-03db-4d8c-8959-05739d966662",
   "metadata": {},
   "outputs": [],
   "source": [
    "jsmetrics.jetstream_metrics.cattiaux_et_al_2016"
   ]
  },
  {
   "cell_type": "code",
   "execution_count": null,
   "id": "2099d60f-7bf8-42c0-affb-b7ccc21ddc0a",
   "metadata": {},
   "outputs": [],
   "source": []
  },
  {
   "cell_type": "markdown",
   "id": "573e34f6-3816-4d1c-81e6-9e93e0c43d55",
   "metadata": {},
   "source": [
    "# Grise & Polvani 2017"
   ]
  },
  {
   "cell_type": "code",
   "execution_count": null,
   "id": "6cce0895-b113-4574-adb3-58436966ecd2",
   "metadata": {},
   "outputs": [],
   "source": [
    "jsmetrics.jetstream_metrics.grise_polvani_2017"
   ]
  },
  {
   "cell_type": "code",
   "execution_count": null,
   "id": "fbbbf314-2fe1-4979-b096-91480443bb95",
   "metadata": {},
   "outputs": [],
   "source": []
  },
  {
   "cell_type": "markdown",
   "id": "a54de05f-ebfc-4a96-8f8d-dea1a179a4f7",
   "metadata": {},
   "source": [
    "# Bracegirdle et al. 2018"
   ]
  },
  {
   "cell_type": "code",
   "execution_count": null,
   "id": "4e7ae5ed-c80e-4b14-ad12-0625cf77de29",
   "metadata": {},
   "outputs": [],
   "source": [
    "jsmetrics.jetstream_metrics.bracegirdle_et_al_2018"
   ]
  },
  {
   "cell_type": "code",
   "execution_count": null,
   "id": "2d93f5a5-0849-4d0a-9b63-987a9d0bf406",
   "metadata": {},
   "outputs": [],
   "source": []
  },
  {
   "cell_type": "markdown",
   "id": "776ee89d-6fb0-4134-95d0-7c3fbe202415",
   "metadata": {},
   "source": [
    "# Ceppi et al. 2018"
   ]
  },
  {
   "cell_type": "code",
   "execution_count": null,
   "id": "7ecac696-aa8b-4c95-83c0-ea23969c844c",
   "metadata": {},
   "outputs": [],
   "source": [
    "jsmetrics.jetstream_metrics.ceppi_et_al_2018"
   ]
  },
  {
   "cell_type": "code",
   "execution_count": null,
   "id": "abef9064-ad7f-429f-8e19-118663ee6a33",
   "metadata": {},
   "outputs": [],
   "source": []
  }
 ],
 "metadata": {
  "kernelspec": {
   "display_name": "Python 3 (ipykernel)",
   "language": "python",
   "name": "python3"
  },
  "language_info": {
   "codemirror_mode": {
    "name": "ipython",
    "version": 3
   },
   "file_extension": ".py",
   "mimetype": "text/x-python",
   "name": "python",
   "nbconvert_exporter": "python",
   "pygments_lexer": "ipython3",
   "version": "3.9.6"
  }
 },
 "nbformat": 4,
 "nbformat_minor": 5
}
