{
 "cells": [
  {
   "cell_type": "markdown",
   "id": "21c9573c-aeb0-4cbf-8d65-ef06066fd8f6",
   "metadata": {},
   "source": [
    "# Index\n",
    "_Ordered by publication year_  \n",
    "## [Metrics](#Metrics)  \n",
    "#### - [Archer & Caldiera 2008](#Archer-&-Caldiera-2008)  \n",
    "#### - [Woollings et al. 2010](#Woollings-et-al.-2010)  \n",
    "#### - [Barnes & Polvani 2013](#Barnes-&-Polvani-2013)  \n",
    "#### - [Screen & Simmonds 2013](#Screen-&-Simmonds-2013)  \n",
    "#### - [Grise & Polvani 2014](#Grise-&-Polvani-2014)  \n",
    "#### - [Barnes & Polvani 2015](#Barnes-&-Polvani-2015)  \n",
    "#### - [Francis & Vavrus 2015](#Francis-&-Vavrus-2015)  \n",
    "#### - [Cattiaux et al. 2016](#Cattiaux-et-al.-2016)  \n",
    "#### - [Barnes & Simpson 2017](#Barnes-&-Simpson-2017)  \n",
    "#### - [Bracegirdle et al. 2018](#Bracegirdle-et-al.-2018)  \n",
    "#### - [Ceppi et al. 2018](#Ceppi-et-al.-2018)  \n",
    "#### - [Kerr et al. 2020](#Kerr-et-al.-2020)\n",
    "\n",
    "\n",
    "\n",
    "## [Algorithms](#Algorithms)\n",
    "#### - [Koch et al. 2006](#Koch-et-al.-2006)\n",
    "#### - [Schiemann et al. 2009](#Schiemann-et-al.-2009)\n",
    "#### - [Manney et al. 2011](#Manney-et-al.-2011)\n",
    "#### - [Pena-Ortiz et al. 2013](#Pena-Ortiz-et-al.-2013)\n",
    "#### - [Kuang et al. 2014](#Kuang-et-al.-2014)"
   ]
  },
  {
   "cell_type": "code",
   "execution_count": 1,
   "id": "1790eb03-9447-4fd3-87e9-fe37ace67c90",
   "metadata": {},
   "outputs": [],
   "source": [
    "import xarray as xr\n",
    "import matplotlib.pyplot as plt\n",
    "\n",
    "import jsmetrics\n",
    "\n",
    "%matplotlib inline"
   ]
  },
  {
   "cell_type": "code",
   "execution_count": 2,
   "id": "4dcac8c3-12ed-4cd2-a331-d4c43756e6a7",
   "metadata": {},
   "outputs": [
    {
     "name": "stdout",
     "output_type": "stream",
     "text": [
      "0.0.9-alpha\n",
      "0.20.3.dev49+g4c865d60\n"
     ]
    }
   ],
   "source": [
    "print(jsmetrics.__version__)\n",
    "print(xr.__version__)"
   ]
  },
  {
   "cell_type": "markdown",
   "id": "7e5d63d1-a5a2-4447-a26c-a2bbf218834e",
   "metadata": {},
   "source": [
    "# Metrics\n",
    "[Back to Index](#Index)"
   ]
  },
  {
   "cell_type": "markdown",
   "id": "16bc9a94-1d37-47b8-a6a6-9f352d454c5f",
   "metadata": {},
   "source": [
    "# Archer & Caldiera 2008\n",
    "Data: ERA-40  \n",
    "Figure 1 (lots of data)"
   ]
  },
  {
   "cell_type": "code",
   "execution_count": null,
   "id": "d6fb7672-c272-46d1-b3ee-44f6e67a0e53",
   "metadata": {},
   "outputs": [],
   "source": [
    "jsmetrics.jetstream_metrics.archer_caldeira_2008"
   ]
  },
  {
   "cell_type": "code",
   "execution_count": null,
   "id": "8620eade-ecb3-4aeb-976c-bc00f757994d",
   "metadata": {},
   "outputs": [],
   "source": []
  },
  {
   "cell_type": "markdown",
   "id": "2784e5ab-f3ba-43b3-bfb0-7c3bf8abab6f",
   "metadata": {},
   "source": [
    "# Woollings et al. 2010\n",
    "Data: ERA-40 December 1957–28 February 2002  \n",
    "Figure 1. "
   ]
  },
  {
   "cell_type": "code",
   "execution_count": null,
   "id": "e7b6b879-9a61-4541-af65-4bdb2af5ba5d",
   "metadata": {},
   "outputs": [],
   "source": [
    "jsmetrics.jetstream_metrics.Woollings_et_al_2010"
   ]
  },
  {
   "cell_type": "code",
   "execution_count": null,
   "id": "39871516-1522-4742-bf35-54099b49e5e8",
   "metadata": {},
   "outputs": [],
   "source": []
  },
  {
   "cell_type": "markdown",
   "id": "818f7380-de53-4d3f-a37e-f80cd9b56886",
   "metadata": {
    "tags": []
   },
   "source": [
    "# Barnes & Polvani 2013\n",
    "Data: ???  \n",
    "???"
   ]
  },
  {
   "cell_type": "code",
   "execution_count": null,
   "id": "9a9ae227-af2a-4bf7-b816-2ff1dd7cbf05",
   "metadata": {},
   "outputs": [],
   "source": [
    "jsmetrics.jetstream_metrics.barnes_polvani_2013"
   ]
  },
  {
   "cell_type": "code",
   "execution_count": null,
   "id": "e634d276-7836-4b6f-bc5e-c7e68f8f5c63",
   "metadata": {},
   "outputs": [],
   "source": []
  },
  {
   "cell_type": "markdown",
   "id": "18e2f0a4-0a94-46ba-9c54-1bab15c1055f",
   "metadata": {
    "tags": []
   },
   "source": [
    "# Screen & Simmonds 2013\n",
    "Data: ERA-Interim  \n",
    "Figure 1. "
   ]
  },
  {
   "cell_type": "code",
   "execution_count": null,
   "id": "e100361e-85bd-44f7-9c64-d17dee9f4a2c",
   "metadata": {},
   "outputs": [],
   "source": [
    "jsmetrics.jetstream_metrics.screen_and_simmonds_2013"
   ]
  },
  {
   "cell_type": "code",
   "execution_count": null,
   "id": "cbf96dba-551a-435b-bd4f-84ba7b9e890d",
   "metadata": {},
   "outputs": [],
   "source": []
  },
  {
   "cell_type": "markdown",
   "id": "6d1b012e-57a9-4237-b399-e108fac45736",
   "metadata": {
    "tags": []
   },
   "source": [
    "# Barnes & Polvani 2015\n",
    "Data: ???  \n",
    "???"
   ]
  },
  {
   "cell_type": "code",
   "execution_count": 3,
   "id": "82de7076-54b8-48a7-8b5b-4ec385e77822",
   "metadata": {},
   "outputs": [
    {
     "data": {
      "text/plain": [
       "<function jsmetrics.jetstream_metrics.barnes_polvani_2015(data)>"
      ]
     },
     "execution_count": 3,
     "metadata": {},
     "output_type": "execute_result"
    }
   ],
   "source": [
    "jsmetrics.jetstream_metrics.barnes_polvani_2015"
   ]
  },
  {
   "cell_type": "code",
   "execution_count": null,
   "id": "e7ea835f-7bd6-4e70-aa60-66ed2d8edeae",
   "metadata": {},
   "outputs": [],
   "source": []
  },
  {
   "cell_type": "markdown",
   "id": "07856987-f98e-4cd5-940f-ea9f794cbe5b",
   "metadata": {},
   "source": [
    "# Francis & Vavrus 2015\n",
    "Statistic is copied excatly"
   ]
  },
  {
   "cell_type": "code",
   "execution_count": null,
   "id": "e5604948-bd98-47b1-ae7e-ef04bc06fd2c",
   "metadata": {},
   "outputs": [],
   "source": []
  },
  {
   "cell_type": "markdown",
   "id": "46ab33bd-3f87-47c7-a9d7-0f86821e8ffb",
   "metadata": {},
   "source": [
    "# Cattiaux et al. 2016\n",
    "Data: ERA-Interim 6th Jan 2010  \n",
    "Figure 1"
   ]
  },
  {
   "cell_type": "code",
   "execution_count": null,
   "id": "31eac85a-03db-4d8c-8959-05739d966662",
   "metadata": {},
   "outputs": [],
   "source": [
    "jsmetrics.jetstream_metrics.cattiaux_et_al_2016"
   ]
  },
  {
   "cell_type": "code",
   "execution_count": null,
   "id": "2099d60f-7bf8-42c0-affb-b7ccc21ddc0a",
   "metadata": {},
   "outputs": [],
   "source": []
  },
  {
   "cell_type": "markdown",
   "id": "5e3696bc-7331-4b38-ae66-a26bc487f507",
   "metadata": {
    "tags": []
   },
   "source": [
    "# Barnes & Simpson 2017\n",
    "Data: ???  \n",
    "???"
   ]
  },
  {
   "cell_type": "code",
   "execution_count": null,
   "id": "27a3fbef-fd64-48cb-9ce6-1423de241e2b",
   "metadata": {},
   "outputs": [],
   "source": [
    "jsmetrics.jetstream_metrics.barnes_simpson_2017"
   ]
  },
  {
   "cell_type": "code",
   "execution_count": null,
   "id": "cfd85a1a-ce0a-413b-a048-39ea1f21be58",
   "metadata": {},
   "outputs": [],
   "source": []
  },
  {
   "cell_type": "markdown",
   "id": "573e34f6-3816-4d1c-81e6-9e93e0c43d55",
   "metadata": {},
   "source": [
    "# Grise & Polvani 2014\n",
    "CMIP5 4xCO2  \n",
    "Statistic is copied exactly, but might need verification"
   ]
  },
  {
   "cell_type": "code",
   "execution_count": null,
   "id": "6cce0895-b113-4574-adb3-58436966ecd2",
   "metadata": {},
   "outputs": [],
   "source": [
    "jsmetrics.metrics.jet_statistics.grise_polvani_2014"
   ]
  },
  {
   "cell_type": "code",
   "execution_count": null,
   "id": "fbbbf314-2fe1-4979-b096-91480443bb95",
   "metadata": {},
   "outputs": [],
   "source": []
  },
  {
   "cell_type": "markdown",
   "id": "a54de05f-ebfc-4a96-8f8d-dea1a179a4f7",
   "metadata": {},
   "source": [
    "# Bracegirdle et al. 2018\n",
    "Statistic is copied exactly"
   ]
  },
  {
   "cell_type": "code",
   "execution_count": null,
   "id": "4e7ae5ed-c80e-4b14-ad12-0625cf77de29",
   "metadata": {},
   "outputs": [],
   "source": [
    "jsmetrics.jetstream_metrics.bracegirdle_et_al_2018"
   ]
  },
  {
   "cell_type": "code",
   "execution_count": null,
   "id": "2d93f5a5-0849-4d0a-9b63-987a9d0bf406",
   "metadata": {},
   "outputs": [],
   "source": []
  },
  {
   "cell_type": "markdown",
   "id": "776ee89d-6fb0-4134-95d0-7c3fbe202415",
   "metadata": {},
   "source": [
    "# Ceppi et al. 2018\n",
    "abrupt 4xCO2"
   ]
  },
  {
   "cell_type": "code",
   "execution_count": null,
   "id": "7ecac696-aa8b-4c95-83c0-ea23969c844c",
   "metadata": {},
   "outputs": [],
   "source": [
    "jsmetrics.jetstream_metrics.ceppi_et_al_2018"
   ]
  },
  {
   "cell_type": "code",
   "execution_count": null,
   "id": "abef9064-ad7f-429f-8e19-118663ee6a33",
   "metadata": {},
   "outputs": [],
   "source": []
  },
  {
   "cell_type": "markdown",
   "id": "62d14aee-7d94-41a8-8eb8-d1a23e6a1fc3",
   "metadata": {},
   "source": [
    "# Kerr et al. 2020\n",
    "Data: ???  \n",
    "???"
   ]
  },
  {
   "cell_type": "code",
   "execution_count": null,
   "id": "a9d8dc1e-28d0-4b35-b78b-706010a91436",
   "metadata": {},
   "outputs": [],
   "source": [
    "jsmetrics.jetstream_metrics.kerr_et_al_2020"
   ]
  },
  {
   "cell_type": "code",
   "execution_count": null,
   "id": "34af9472-874f-42de-b34a-a4ef9a6e1e0a",
   "metadata": {},
   "outputs": [],
   "source": []
  },
  {
   "cell_type": "markdown",
   "id": "07e8b68d-3175-4e0f-94ac-b2dac7b2249e",
   "metadata": {},
   "source": [
    "# Algorithms\n",
    "[Back to Index](#Index)"
   ]
  },
  {
   "cell_type": "markdown",
   "id": "61e92f26-bb71-4f27-87ac-23cd8141dd35",
   "metadata": {
    "tags": []
   },
   "source": [
    "# Koch et al. 2006\n",
    "Data: ERA-15  at 12 UTC 27 January 1989  \n",
    "Verification based on Figure 3.\n",
    "\n",
    "Notes: could not work with ERA-15, so ERA-40 is used"
   ]
  },
  {
   "cell_type": "code",
   "execution_count": null,
   "id": "177a575a-ae30-4141-a5d0-084419ca4bb6",
   "metadata": {},
   "outputs": [],
   "source": [
    "jsmetrics.jetstream_algorithms.koch_et_al_2006"
   ]
  },
  {
   "cell_type": "code",
   "execution_count": null,
   "id": "c41a206c-8b1f-4a90-97a0-3e2333f1ceca",
   "metadata": {},
   "outputs": [],
   "source": []
  },
  {
   "cell_type": "markdown",
   "id": "6c18eb3b-0f4f-4015-b7de-0abf4f5f369f",
   "metadata": {},
   "source": [
    "# Schiemann et al. 2009\n",
    "Data: ERA-40 at Feb 7th 1980  \n",
    "Figure 1. "
   ]
  },
  {
   "cell_type": "code",
   "execution_count": null,
   "id": "8fe1a567-7c3e-4f2e-8bb3-1161589bbf66",
   "metadata": {},
   "outputs": [],
   "source": [
    "jsmetrics.jetstream_algorithms.schiemann_et_al_2009"
   ]
  },
  {
   "cell_type": "code",
   "execution_count": null,
   "id": "f3782e90-9a26-47c7-91b6-fea99b296413",
   "metadata": {},
   "outputs": [],
   "source": []
  },
  {
   "cell_type": "markdown",
   "id": "ec13c437-1c2e-4f70-94ad-dea16dc8b78f",
   "metadata": {},
   "source": [
    "# Manney et al. 2011\n",
    "Data: GEOS-5 & MERRA  \n",
    "Figure 3."
   ]
  },
  {
   "cell_type": "code",
   "execution_count": null,
   "id": "74367cba-7ade-49cf-a66b-d82aeb432577",
   "metadata": {},
   "outputs": [],
   "source": [
    "jsmetrics.jetstream_algorithms.manney_et_al_2011"
   ]
  },
  {
   "cell_type": "code",
   "execution_count": null,
   "id": "8fc1c405-ed93-488f-b7ed-309f7020e6c2",
   "metadata": {},
   "outputs": [],
   "source": []
  },
  {
   "cell_type": "markdown",
   "id": "8cddb2b3-e7dc-4fd3-bff8-a3bee863c640",
   "metadata": {},
   "source": [
    "# Pena-Ortiz et al. 2013\n",
    "Data: ???  \n",
    "???"
   ]
  },
  {
   "cell_type": "code",
   "execution_count": null,
   "id": "947a755d-6d51-4838-96b9-0aeaa88af7f4",
   "metadata": {},
   "outputs": [],
   "source": [
    "jsmetrics.jetstream_algorithms.penaortiz_et_al_2013"
   ]
  },
  {
   "cell_type": "code",
   "execution_count": null,
   "id": "30ffefef-1481-4239-92ef-ef6c1bcb5433",
   "metadata": {},
   "outputs": [],
   "source": []
  },
  {
   "cell_type": "markdown",
   "id": "99f26b1d-7b0d-4ff3-bfc6-cd152df30e38",
   "metadata": {},
   "source": [
    "# Kuang et al. 2014\n",
    "Data: NCEP/NCAR  \n",
    "Figure 1/2?"
   ]
  },
  {
   "cell_type": "code",
   "execution_count": null,
   "id": "744c5638-4960-43bf-be98-ea2f2ad264de",
   "metadata": {},
   "outputs": [],
   "source": [
    "jsmetrics.jetstream_algorithms.kuang_et_al_2014"
   ]
  },
  {
   "cell_type": "code",
   "execution_count": null,
   "id": "0c73f445-1463-4651-a3e9-c8205e43597f",
   "metadata": {},
   "outputs": [],
   "source": []
  }
 ],
 "metadata": {
  "kernelspec": {
   "display_name": "Python 3 (ipykernel)",
   "language": "python",
   "name": "python3"
  },
  "language_info": {
   "codemirror_mode": {
    "name": "ipython",
    "version": 3
   },
   "file_extension": ".py",
   "mimetype": "text/x-python",
   "name": "python",
   "nbconvert_exporter": "python",
   "pygments_lexer": "ipython3",
   "version": "3.9.9"
  }
 },
 "nbformat": 4,
 "nbformat_minor": 5
}
